{
  "nbformat": 4,
  "nbformat_minor": 0,
  "metadata": {
    "colab": {
      "provenance": [],
      "authorship_tag": "ABX9TyPFRTMvch145KeUSEDIYhYv",
      "include_colab_link": true
    },
    "kernelspec": {
      "name": "python3",
      "display_name": "Python 3"
    },
    "language_info": {
      "name": "python"
    }
  },
  "cells": [
    {
      "cell_type": "markdown",
      "metadata": {
        "id": "view-in-github",
        "colab_type": "text"
      },
      "source": [
        "<a href=\"https://colab.research.google.com/github/mdzakyjaya/MLAZK/blob/main/MLAZK_P2_Regression.ipynb\" target=\"_parent\"><img src=\"https://colab.research.google.com/assets/colab-badge.svg\" alt=\"Open In Colab\"/></a>"
      ]
    },
    {
      "cell_type": "markdown",
      "source": [
        "# Simple Linear Regression"
      ],
      "metadata": {
        "id": "ihUN6ow9KrUc"
      }
    },
    {
      "cell_type": "code",
      "source": [
        "# load data\n",
        "import pandas as pd\n",
        "\n",
        "link = \"https://raw.githubusercontent.com/mdzakyjaya/MLAZK/main/Data/P3/Salary_Data.csv\"\n",
        "df = pd.read_csv(link)\n",
        "\n",
        "# define features and label\n",
        "x = df.iloc[:, :1].values\n",
        "y = df.iloc[:, 1:].values\n",
        "\n",
        "# split to train and test\n",
        "from sklearn.model_selection import train_test_split as tt\n",
        "\n",
        "x_train, x_test, y_train, y_test = tt(x, y, test_size=0.3, random_state=123)\n",
        "\n",
        "# create slr model\n",
        "from sklearn.linear_model import LinearRegression as lr\n",
        "\n",
        "model = lr()\n",
        "\n",
        "# train the model\n",
        "model.fit(x_train, y_train)\n",
        "\n",
        "# test the model\n",
        "model.predict(x_test)\n",
        "\n",
        "print(model.score(x_test, y_test))\n",
        "print(model.score(x_train, y_train))\n",
        "print(model.score(x, y))"
      ],
      "metadata": {
        "colab": {
          "base_uri": "https://localhost:8080/"
        },
        "id": "_xje_B8sLVpc",
        "outputId": "5c178da7-9a4e-49e2-a17a-d564ba878354"
      },
      "execution_count": null,
      "outputs": [
        {
          "output_type": "stream",
          "name": "stdout",
          "text": [
            "0.963407053878536\n",
            "0.9518686093824901\n",
            "0.9566181589200135\n"
          ]
        }
      ]
    },
    {
      "cell_type": "code",
      "source": [
        "# visualize the model\n",
        "from matplotlib import pyplot as plt\n",
        "\n",
        "plt.figure(figsize=(8,5))\n",
        "plt.scatter(x, y, label=\"actual\", c=\"red\")\n",
        "plt.plot(x, model.predict(x), label=\"predicted\")\n",
        "plt.legend(loc=\"lower right\")\n",
        "plt.show()"
      ],
      "metadata": {
        "colab": {
          "base_uri": "https://localhost:8080/",
          "height": 320
        },
        "id": "mNTJeJR1Vnm-",
        "outputId": "89451d95-9971-46d9-d870-2bcfa80751e3"
      },
      "execution_count": null,
      "outputs": [
        {
          "output_type": "display_data",
          "data": {
            "text/plain": [
              "<Figure size 576x360 with 1 Axes>"
            ],
            "image/png": "[encoded data removed]"
          },
          "metadata": {
            "needs_background": "light"
          }
        }
      ]
    },
    {
      "cell_type": "code",
      "source": [
        "# how to predict a single experience?\n",
        "import numpy as np\n",
        "\n",
        "def angka(i):\n",
        "    return np.array(i).reshape(1, -1)\n",
        "\n",
        "model.predict(angka(12))\n",
        "\n",
        "# or simply\n",
        "model.predict([[12]])\n",
        "\n",
        "# how to write down the model?\n",
        "print(\"model\\nsallary = {} + {}(experience)\"\n",
        "      .format(round(model.intercept_[0], 2),\n",
        "              round(model.coef_.flatten()[0], 2)))"
      ],
      "metadata": {
        "colab": {
          "base_uri": "https://localhost:8080/"
        },
        "id": "4tst0LdSgiSc",
        "outputId": "2e29a6f8-ead3-423a-afb0-9c03c2ed1ac1"
      },
      "execution_count": null,
      "outputs": [
        {
          "output_type": "stream",
          "name": "stdout",
          "text": [
            "model\n",
            "sallary = 25235.62 + 9602.56(experience)\n"
          ]
        }
      ]
    },
    {
      "cell_type": "markdown",
      "source": [
        "# Multiple Linear Regression"
      ],
      "metadata": {
        "id": "cWJWfOg2nWoA"
      }
    },
    {
      "cell_type": "markdown",
      "source": [
        "assumption of MLR\n",
        "1. Linearity\n",
        "2. Homoscedastisity\n",
        "3. Multivariate normal distributed\n",
        "4. independence of errors\n",
        "5. lack of multicolinearity"
      ],
      "metadata": {
        "id": "EautvI6R_bW-"
      }
    },
    {
      "cell_type": "code",
      "source": [
        "# load the data\n",
        "import pandas as pd\n",
        "\n",
        "url = \"https://raw.githubusercontent.com/mdzakyjaya/MLAZK/main/Data/P3/50_Startups.csv\"\n",
        "df = pd.read_csv(url)\n",
        "\n",
        "# explore the data\n",
        "df.info()\n",
        "\n",
        "# define dependent & independent variable\n",
        "x = df.iloc[:, :-1].values\n",
        "y = df.iloc[:, -1].values\n",
        "\n",
        "# encoding categorical data\n",
        "# create dummy variables for state with base \"california\"\n",
        "dummy_state = pd.get_dummies(df.State, drop_first=True, \n",
        "                             prefix='State_')\n",
        "\n",
        "# input the dummy variables to the dataframe\n",
        "# df = pd.concat((df.drop('State', axis=1), dummy_state), axis=1)\n",
        "\n",
        "# or use one-hot encoding\n",
        "from sklearn.preprocessing import OneHotEncoder as OH\n",
        "from sklearn.compose import ColumnTransformer\n",
        "\n",
        "ct = ColumnTransformer(transformers=[('encoder', OH(),\n",
        "                                      [-1])], \n",
        "                       remainder='passthrough')\n",
        "\n",
        "x = ct.fit_transform(x)\n",
        "\n",
        "# split to train n test\n",
        "from sklearn.model_selection import train_test_split as tt\n",
        "\n",
        "x_train, x_test, y_train, y_test = tt(x, y, test_size=0.3, random_state=2)\n",
        "\n",
        "# create model\n",
        "from sklearn.linear_model import LinearRegression as lm\n",
        "\n",
        "# train the model\n",
        "model = lm()\n",
        "model.fit(x_train, y_train)\n",
        "\n",
        "# test model\n",
        "y_predict = model.predict(x_test)\n",
        "\n",
        "\n",
        "# a little trick to display actual and predicted values for dependent var \n",
        "import numpy as np\n",
        "np.set_printoptions(precision=2)\n",
        "\n",
        "pd.DataFrame({\"actual\": y_test.tolist(), \n",
        "              \"predicted\": model.predict(x_test).tolist()})\n",
        "\n",
        "np.concatenate((y_test.reshape(-1, 1), y_predict.reshape(-1,1)), axis=1)"
      ],
      "metadata": {
        "id": "RTqwyJ2snY5n",
        "colab": {
          "base_uri": "https://localhost:8080/"
        },
        "outputId": "4d70e5a0-eeef-4549-cd3c-06bde4328c11"
      },
      "execution_count": null,
      "outputs": [
        {
          "output_type": "execute_result",
          "data": {
            "text/plain": [
              "6"
            ]
          },
          "metadata": {},
          "execution_count": 102
        }
      ]
    }
  ]
}